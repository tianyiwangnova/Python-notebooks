{
 "cells": [
  {
   "cell_type": "markdown",
   "metadata": {},
   "source": [
    "Linear Regression in 3D space"
   ]
  },
  {
   "cell_type": "code",
   "execution_count": 1,
   "metadata": {
    "collapsed": true
   },
   "outputs": [],
   "source": [
    "import numpy as np\n",
    "import matplotlib.pyplot as mpl\n",
    "from mpl_toolkits.mplot3d import Axes3D\n",
    "from sklearn import linear_model\n",
    "from sklearn.datasets.samples_generator import make_regression"
   ]
  },
  {
   "cell_type": "code",
   "execution_count": 2,
   "metadata": {
    "collapsed": true
   },
   "outputs": [],
   "source": [
    "# Generating synthetic data for training and testing\n",
    "X, y = make_regression(n_samples=100, n_features=2, n_informative=1,\\\n",
    "random_state=0, noise=50)"
   ]
  },
  {
   "cell_type": "markdown",
   "metadata": {},
   "source": [
    "---"
   ]
  },
  {
   "cell_type": "markdown",
   "metadata": {},
   "source": [
    "# data manipulation"
   ]
  },
  {
   "cell_type": "code",
   "execution_count": 4,
   "metadata": {
    "collapsed": true
   },
   "outputs": [],
   "source": [
    "from sklearn import datasets"
   ]
  },
  {
   "cell_type": "code",
   "execution_count": 7,
   "metadata": {
    "collapsed": false
   },
   "outputs": [
    {
     "data": {
      "text/plain": [
       "(150, 4)"
      ]
     },
     "execution_count": 7,
     "metadata": {},
     "output_type": "execute_result"
    }
   ],
   "source": [
    "iris=datasets.load_iris()\n",
    "iris.data.shape"
   ]
  },
  {
   "cell_type": "code",
   "execution_count": 10,
   "metadata": {
    "collapsed": false
   },
   "outputs": [
    {
     "name": "stdout",
     "output_type": "stream",
     "text": [
      "[[ 0.         -1.22474487  1.33630621]\n",
      " [ 1.22474487  0.         -0.26726124]\n",
      " [-1.22474487  1.22474487 -1.06904497]]\n"
     ]
    }
   ],
   "source": [
    "from sklearn import preprocessing\n",
    "X=np.array([[1.,-1.,2.],[2.,0.,0.],[0.,1.,-1.]])\n",
    "X_scaled=preprocessing.scale(X)\n",
    "print(X_scaled)"
   ]
  },
  {
   "cell_type": "markdown",
   "metadata": {},
   "source": [
    "----"
   ]
  },
  {
   "cell_type": "markdown",
   "metadata": {},
   "source": [
    "# Naive Bayes"
   ]
  },
  {
   "cell_type": "code",
   "execution_count": 10,
   "metadata": {
    "collapsed": false
   },
   "outputs": [
    {
     "name": "stdout",
     "output_type": "stream",
     "text": [
      "   Group  F1  F2  F3\n",
      "0      1   1   1   1\n",
      "1      0   0   1   0\n",
      "2      1   0   0   0\n",
      "3      0   0   0   0\n",
      "4      0   0   1   0\n",
      "5      1   0   1   1\n",
      "6      1   0   0   1\n"
     ]
    }
   ],
   "source": [
    "import pandas\n",
    "df=pandas.read_csv(\"C:/Users/Think/Downloads/000-example.csv\",index_col=False,header=0)\n",
    "print(df)"
   ]
  },
  {
   "cell_type": "code",
   "execution_count": 11,
   "metadata": {
    "collapsed": false
   },
   "outputs": [
    {
     "name": "stdout",
     "output_type": "stream",
     "text": [
      "[1 0 1 0 0 1 1]\n",
      "[[ 1.  1.  1.]\n",
      " [ 0.  1.  0.]\n",
      " [ 0.  0.  0.]\n",
      " [ 0.  0.  0.]\n",
      " [ 0.  1.  0.]\n",
      " [ 0.  1.  1.]\n",
      " [ 0.  0.  1.]]\n"
     ]
    }
   ],
   "source": [
    "Group=df[\"Group\"].values\n",
    "print(Group)\n",
    "Features=df[[\"F1\",\"F2\",\"F3\"]].values\n",
    "Features=Features.astype(float)\n",
    "print(Features)"
   ]
  },
  {
   "cell_type": "code",
   "execution_count": 13,
   "metadata": {
    "collapsed": false
   },
   "outputs": [
    {
     "name": "stdout",
     "output_type": "stream",
     "text": [
      "[1 0 0 0 0 1 1]\n",
      "[[ 0.1394148   0.8605852 ]\n",
      " [ 0.72160356  0.27839644]\n",
      " [ 0.63343109  0.36656891]\n",
      " [ 0.63343109  0.36656891]\n",
      " [ 0.72160356  0.27839644]\n",
      " [ 0.24471299  0.75528701]\n",
      " [ 0.17763158  0.82236842]]\n"
     ]
    }
   ],
   "source": [
    "from sklearn.naive_bayes import BernoulliNB\n",
    "clf=BernoulliNB()\n",
    "clf.fit(Features,Group)\n",
    "BernoulliNB(alpha=1,binarize=0.0,class_prior=None,fit_prior=True)\n",
    "print(clf.predict(Features))\n",
    "print(clf.predict_proba(Features))"
   ]
  },
  {
   "cell_type": "code",
   "execution_count": 30,
   "metadata": {
    "collapsed": false
   },
   "outputs": [
    {
     "name": "stdout",
     "output_type": "stream",
     "text": [
      "[[4 1 1]\n",
      " [3 2 3]\n",
      " [4 3 2]\n",
      " [4 4 0]\n",
      " [3 2 2]\n",
      " [4 2 2]]\n",
      "[[ 0.29050524  0.10708635  0.15511107  0.10893387  0.1422825   0.19608096]\n",
      " [ 0.13231473  0.24487771  0.17882658  0.02075854  0.22144941  0.20177302]\n",
      " [ 0.15736656  0.14297318  0.21268474  0.10099989  0.18963185  0.19634379]\n",
      " [ 0.07829721  0.03260392  0.12541699  0.61419306  0.0698894   0.07959942]\n",
      " [ 0.16133847  0.18247323  0.19382477  0.06187379  0.20001865  0.20047108]\n",
      " [ 0.20557822  0.15218721  0.18522932  0.06450535  0.18350258  0.20899733]]\n"
     ]
    }
   ],
   "source": [
    "import numpy as np\n",
    "X=np.random.randint(5,size=(6,3))\n",
    "print(X)\n",
    "y=np.array([1,2,3,4,5,6])\n",
    "from sklearn.naive_bayes import MultinomialNB\n",
    "clf=MultinomialNB()\n",
    "clf.fit(X,y)\n",
    "MultinomialNB(alpha=1,class_prior=None,fit_prior=True)\n",
    "print(clf.predict_proba(X))"
   ]
  },
  {
   "cell_type": "code",
   "execution_count": 19,
   "metadata": {
    "collapsed": false
   },
   "outputs": [
    {
     "name": "stdout",
     "output_type": "stream",
     "text": [
      "[3 3 2]\n",
      "[[ 0.19394618  0.02948884  0.10985079  0.335238    0.19789623  0.13357996]]\n"
     ]
    },
    {
     "name": "stderr",
     "output_type": "stream",
     "text": [
      "C:\\Users\\Think\\Anaconda3\\lib\\site-packages\\sklearn\\utils\\validation.py:386: DeprecationWarning: Passing 1d arrays as data is deprecated in 0.17 and willraise ValueError in 0.19. Reshape your data either using X.reshape(-1, 1) if your data has a single feature or X.reshape(1, -1) if it contains a single sample.\n",
      "  DeprecationWarning)\n"
     ]
    }
   ],
   "source": [
    "x1=np.array([3,3,2])\n",
    "print(x1)\n",
    "print(clf.predict_proba(x1))"
   ]
  },
  {
   "cell_type": "code",
   "execution_count": 31,
   "metadata": {
    "collapsed": false
   },
   "outputs": [
    {
     "name": "stdout",
     "output_type": "stream",
     "text": [
      "[1 6 5 4 1 1]\n"
     ]
    }
   ],
   "source": [
    "import numpy as np\n",
    "XX=np.random.randint(5,size=(6,3))\n",
    "yy=np.array([1,2,3,4,5,6])\n",
    "clf.partial_fit(XX,yy)\n",
    "print(clf.predict(X))"
   ]
  },
  {
   "cell_type": "code",
   "execution_count": 32,
   "metadata": {
    "collapsed": false
   },
   "outputs": [
    {
     "name": "stdout",
     "output_type": "stream",
     "text": [
      "[[4 2 3]\n",
      " [2 0 3]\n",
      " [1 4 2]\n",
      " [2 1 0]\n",
      " [1 2 1]\n",
      " [1 3 4]]\n"
     ]
    }
   ],
   "source": [
    "print(XX)"
   ]
  },
  {
   "cell_type": "code",
   "execution_count": 21,
   "metadata": {
    "collapsed": false
   },
   "outputs": [
    {
     "name": "stdout",
     "output_type": "stream",
     "text": [
      "[{'city': 'Dubai', 'temperature': 33.0}, {'city': 'London', 'temperature': 12.0}, {'city': 'San Fransisco', 'temperature': 18.0}]\n"
     ]
    }
   ],
   "source": [
    "measurements=[\n",
    "    {'city':'Dubai','temperature':33.},\n",
    "    {'city':'London','temperature':12.},\n",
    "    {'city':'San Fransisco','temperature':18.},\n",
    "]\n",
    "print(measurements)"
   ]
  },
  {
   "cell_type": "code",
   "execution_count": 22,
   "metadata": {
    "collapsed": true
   },
   "outputs": [],
   "source": [
    "from sklearn.feature_extraction import DictVectorizer"
   ]
  },
  {
   "cell_type": "code",
   "execution_count": 27,
   "metadata": {
    "collapsed": false
   },
   "outputs": [
    {
     "name": "stdout",
     "output_type": "stream",
     "text": [
      "['city=Dubai', 'city=London', 'city=San Fransisco', 'temperature']\n",
      "[[  1.   0.   0.  33.]\n",
      " [  0.   1.   0.  12.]\n",
      " [  0.   0.   1.  18.]]\n"
     ]
    }
   ],
   "source": [
    "vec=DictVectorizer()\n",
    "vecarray=vec.fit_transform(measurements).toarray()\n",
    "print(vec.get_feature_names())\n",
    "print(vecarray)"
   ]
  },
  {
   "cell_type": "code",
   "execution_count": 28,
   "metadata": {
    "collapsed": true
   },
   "outputs": [],
   "source": [
    "import pandas"
   ]
  },
  {
   "cell_type": "code",
   "execution_count": 37,
   "metadata": {
    "collapsed": false
   },
   "outputs": [],
   "source": [
    "df=pandas.read_csv(\"C:/Users/Think/Downloads/000-example.csv\",index_col=False,header=0)"
   ]
  },
  {
   "cell_type": "markdown",
   "metadata": {},
   "source": [
    "----"
   ]
  },
  {
   "cell_type": "markdown",
   "metadata": {},
   "source": [
    "# Detecting spam in real data"
   ]
  },
  {
   "cell_type": "code",
   "execution_count": 26,
   "metadata": {
    "collapsed": false
   },
   "outputs": [],
   "source": [
    "import pandas as pd\n",
    "sms=pd.read_csv(\"C:/Users/Think/Downloads/spam.csv\",encoding = \"ISO-8859-1\")"
   ]
  },
  {
   "cell_type": "code",
   "execution_count": 35,
   "metadata": {
    "collapsed": false,
    "scrolled": false
   },
   "outputs": [
    {
     "data": {
      "text/html": [
       "<div>\n",
       "<table border=\"1\" class=\"dataframe\">\n",
       "  <thead>\n",
       "    <tr style=\"text-align: right;\">\n",
       "      <th></th>\n",
       "      <th>v1</th>\n",
       "      <th>v2</th>\n",
       "      <th>FREE</th>\n",
       "    </tr>\n",
       "  </thead>\n",
       "  <tbody>\n",
       "    <tr>\n",
       "      <th>0</th>\n",
       "      <td>ham</td>\n",
       "      <td>Go until jurong point, crazy.. Available only ...</td>\n",
       "      <td>-1</td>\n",
       "    </tr>\n",
       "    <tr>\n",
       "      <th>1</th>\n",
       "      <td>ham</td>\n",
       "      <td>Ok lar... Joking wif u oni...</td>\n",
       "      <td>-1</td>\n",
       "    </tr>\n",
       "    <tr>\n",
       "      <th>2</th>\n",
       "      <td>spam</td>\n",
       "      <td>Free entry in 2 a wkly comp to win FA Cup fina...</td>\n",
       "      <td>0</td>\n",
       "    </tr>\n",
       "    <tr>\n",
       "      <th>3</th>\n",
       "      <td>ham</td>\n",
       "      <td>U dun say so early hor... U c already then say...</td>\n",
       "      <td>-1</td>\n",
       "    </tr>\n",
       "    <tr>\n",
       "      <th>4</th>\n",
       "      <td>ham</td>\n",
       "      <td>Nah I don't think he goes to usf, he lives aro...</td>\n",
       "      <td>-1</td>\n",
       "    </tr>\n",
       "    <tr>\n",
       "      <th>5</th>\n",
       "      <td>spam</td>\n",
       "      <td>FreeMsg Hey there darling it's been 3 week's n...</td>\n",
       "      <td>0</td>\n",
       "    </tr>\n",
       "    <tr>\n",
       "      <th>6</th>\n",
       "      <td>ham</td>\n",
       "      <td>Even my brother is not like to speak with me. ...</td>\n",
       "      <td>-1</td>\n",
       "    </tr>\n",
       "    <tr>\n",
       "      <th>7</th>\n",
       "      <td>ham</td>\n",
       "      <td>As per your request 'Melle Melle (Oru Minnamin...</td>\n",
       "      <td>-1</td>\n",
       "    </tr>\n",
       "    <tr>\n",
       "      <th>8</th>\n",
       "      <td>spam</td>\n",
       "      <td>WINNER!! As a valued network customer you have...</td>\n",
       "      <td>-1</td>\n",
       "    </tr>\n",
       "    <tr>\n",
       "      <th>9</th>\n",
       "      <td>spam</td>\n",
       "      <td>Had your mobile 11 months or more? U R entitle...</td>\n",
       "      <td>103</td>\n",
       "    </tr>\n",
       "  </tbody>\n",
       "</table>\n",
       "</div>"
      ],
      "text/plain": [
       "     v1                                                 v2  FREE\n",
       "0   ham  Go until jurong point, crazy.. Available only ...    -1\n",
       "1   ham                      Ok lar... Joking wif u oni...    -1\n",
       "2  spam  Free entry in 2 a wkly comp to win FA Cup fina...     0\n",
       "3   ham  U dun say so early hor... U c already then say...    -1\n",
       "4   ham  Nah I don't think he goes to usf, he lives aro...    -1\n",
       "5  spam  FreeMsg Hey there darling it's been 3 week's n...     0\n",
       "6   ham  Even my brother is not like to speak with me. ...    -1\n",
       "7   ham  As per your request 'Melle Melle (Oru Minnamin...    -1\n",
       "8  spam  WINNER!! As a valued network customer you have...    -1\n",
       "9  spam  Had your mobile 11 months or more? U R entitle...   103"
      ]
     },
     "execution_count": 35,
     "metadata": {},
     "output_type": "execute_result"
    }
   ],
   "source": [
    "sms.head(10)"
   ]
  },
  {
   "cell_type": "code",
   "execution_count": 32,
   "metadata": {
    "collapsed": true
   },
   "outputs": [],
   "source": [
    "def replace(x):\n",
    "    if (x >= 0):\n",
    "        x = 1\n",
    "    else:\n",
    "        x = 0\n",
    "    return x"
   ]
  },
  {
   "cell_type": "code",
   "execution_count": 36,
   "metadata": {
    "collapsed": false
   },
   "outputs": [],
   "source": [
    "def create_index(variable):\n",
    "    variable = variable.upper()\n",
    "    sms[variable] = sms[\"v2\"].str.upper().str.find(variable)\n",
    "    sms[variable] = sms[variable].apply(lambda x: replace(x))\n",
    "    return"
   ]
  },
  {
   "cell_type": "code",
   "execution_count": 40,
   "metadata": {
    "collapsed": false
   },
   "outputs": [
    {
     "data": {
      "text/plain": [
       "0    0\n",
       "1    0\n",
       "2    1\n",
       "3    0\n",
       "4    0\n",
       "5    1\n",
       "6    0\n",
       "7    0\n",
       "8    0\n",
       "9    1\n",
       "Name: FREE, dtype: int64"
      ]
     },
     "execution_count": 40,
     "metadata": {},
     "output_type": "execute_result"
    }
   ],
   "source": [
    "create_index(\"FREE\")\n",
    "sms[\"FREE\"].head(10)"
   ]
  },
  {
   "cell_type": "code",
   "execution_count": 41,
   "metadata": {
    "collapsed": true
   },
   "outputs": [],
   "source": [
    "def count_digits(x):   \n",
    "    return sum(c.isdigit() for c in x)"
   ]
  },
  {
   "cell_type": "code",
   "execution_count": 44,
   "metadata": {
    "collapsed": false
   },
   "outputs": [
    {
     "name": "stdout",
     "output_type": "stream",
     "text": [
      "True\n"
     ]
    }
   ],
   "source": [
    "str = \"123456\"  # Only digit in this string\n",
    "print (str.isdigit())\n",
    "#The method isdigit() checks whether the string consists of digits only."
   ]
  },
  {
   "cell_type": "markdown",
   "metadata": {},
   "source": [
    "## The Bernoulli model"
   ]
  },
  {
   "cell_type": "code",
   "execution_count": 45,
   "metadata": {
    "collapsed": true
   },
   "outputs": [],
   "source": [
    "create_index(\"FREE\")\n",
    "create_index(\"WINNER\")\n",
    "create_index(\"REMINDER\")\n",
    "create_index(\"CONTRACT\")\n",
    "create_index(\"MOBILE\")\n",
    "create_index(\"URGENT\")\n",
    "create_index(\"IMPORTANT\")\n",
    "create_index(\"PRIVATE\")\n",
    "create_index(\"CALL\")\n",
    "create_index(\"SEX\")\n",
    "create_index(\"GUARANTEED\")\n",
    "create_index(\"CONGRATS\")\n",
    "create_index(\"DATING\")\n",
    "create_index(\"CASH\")\n",
    "create_index(\"CUSTOMER\")\n",
    "create_index(\"SMS\")\n",
    "create_index(\"ACCOUNT\")\n",
    "create_index(\"HEY\")\n",
    "create_index(\"AWARDED\")\n",
    "create_index(\"WON\")\n",
    "create_index(\"CHOSEN\")\n",
    "create_index(\"WOULD\")\n",
    "create_index(\"WIND\")\n",
    "create_index(\"HORNY\")\n",
    "create_index(\"INVITING\")\n",
    "create_index(\"CHOSEN\")\n",
    "create_index(\"SHOPPING\")\n",
    "create_index(\"ENTITLED\")\n",
    "create_index(\"WANT\")\n",
    "create_index(\"ENTRY\")\n",
    "create_index(\"SECRET\")\n",
    "create_index(\"DISCOUNT\")\n",
    "create_index(\"MESSAGE\")\n",
    "create_index(\"IMPORTANT\")\n",
    "create_index(\"XXX\")\n",
    "create_index(\"GIRLS\")\n",
    "create_index(\"CONTACT\")"
   ]
  },
  {
   "cell_type": "code",
   "execution_count": 46,
   "metadata": {
    "collapsed": false
   },
   "outputs": [
    {
     "data": {
      "text/html": [
       "<div>\n",
       "<table border=\"1\" class=\"dataframe\">\n",
       "  <thead>\n",
       "    <tr style=\"text-align: right;\">\n",
       "      <th></th>\n",
       "      <th>v1</th>\n",
       "      <th>v2</th>\n",
       "      <th>FREE</th>\n",
       "      <th>WINNER</th>\n",
       "      <th>REMINDER</th>\n",
       "      <th>CONTRACT</th>\n",
       "      <th>MOBILE</th>\n",
       "      <th>URGENT</th>\n",
       "      <th>IMPORTANT</th>\n",
       "      <th>PRIVATE</th>\n",
       "      <th>...</th>\n",
       "      <th>SHOPPING</th>\n",
       "      <th>ENTITLED</th>\n",
       "      <th>WANT</th>\n",
       "      <th>ENTRY</th>\n",
       "      <th>SECRET</th>\n",
       "      <th>DISCOUNT</th>\n",
       "      <th>MESSAGE</th>\n",
       "      <th>XXX</th>\n",
       "      <th>GIRLS</th>\n",
       "      <th>CONTACT</th>\n",
       "    </tr>\n",
       "  </thead>\n",
       "  <tbody>\n",
       "    <tr>\n",
       "      <th>0</th>\n",
       "      <td>ham</td>\n",
       "      <td>Go until jurong point, crazy.. Available only ...</td>\n",
       "      <td>0</td>\n",
       "      <td>0</td>\n",
       "      <td>0</td>\n",
       "      <td>0</td>\n",
       "      <td>0</td>\n",
       "      <td>0</td>\n",
       "      <td>0</td>\n",
       "      <td>0</td>\n",
       "      <td>...</td>\n",
       "      <td>0</td>\n",
       "      <td>0</td>\n",
       "      <td>0</td>\n",
       "      <td>0</td>\n",
       "      <td>0</td>\n",
       "      <td>0</td>\n",
       "      <td>0</td>\n",
       "      <td>0</td>\n",
       "      <td>0</td>\n",
       "      <td>0</td>\n",
       "    </tr>\n",
       "    <tr>\n",
       "      <th>1</th>\n",
       "      <td>ham</td>\n",
       "      <td>Ok lar... Joking wif u oni...</td>\n",
       "      <td>0</td>\n",
       "      <td>0</td>\n",
       "      <td>0</td>\n",
       "      <td>0</td>\n",
       "      <td>0</td>\n",
       "      <td>0</td>\n",
       "      <td>0</td>\n",
       "      <td>0</td>\n",
       "      <td>...</td>\n",
       "      <td>0</td>\n",
       "      <td>0</td>\n",
       "      <td>0</td>\n",
       "      <td>0</td>\n",
       "      <td>0</td>\n",
       "      <td>0</td>\n",
       "      <td>0</td>\n",
       "      <td>0</td>\n",
       "      <td>0</td>\n",
       "      <td>0</td>\n",
       "    </tr>\n",
       "    <tr>\n",
       "      <th>2</th>\n",
       "      <td>spam</td>\n",
       "      <td>Free entry in 2 a wkly comp to win FA Cup fina...</td>\n",
       "      <td>1</td>\n",
       "      <td>0</td>\n",
       "      <td>0</td>\n",
       "      <td>0</td>\n",
       "      <td>0</td>\n",
       "      <td>0</td>\n",
       "      <td>0</td>\n",
       "      <td>0</td>\n",
       "      <td>...</td>\n",
       "      <td>0</td>\n",
       "      <td>0</td>\n",
       "      <td>0</td>\n",
       "      <td>1</td>\n",
       "      <td>0</td>\n",
       "      <td>0</td>\n",
       "      <td>0</td>\n",
       "      <td>0</td>\n",
       "      <td>0</td>\n",
       "      <td>0</td>\n",
       "    </tr>\n",
       "    <tr>\n",
       "      <th>3</th>\n",
       "      <td>ham</td>\n",
       "      <td>U dun say so early hor... U c already then say...</td>\n",
       "      <td>0</td>\n",
       "      <td>0</td>\n",
       "      <td>0</td>\n",
       "      <td>0</td>\n",
       "      <td>0</td>\n",
       "      <td>0</td>\n",
       "      <td>0</td>\n",
       "      <td>0</td>\n",
       "      <td>...</td>\n",
       "      <td>0</td>\n",
       "      <td>0</td>\n",
       "      <td>0</td>\n",
       "      <td>0</td>\n",
       "      <td>0</td>\n",
       "      <td>0</td>\n",
       "      <td>0</td>\n",
       "      <td>0</td>\n",
       "      <td>0</td>\n",
       "      <td>0</td>\n",
       "    </tr>\n",
       "    <tr>\n",
       "      <th>4</th>\n",
       "      <td>ham</td>\n",
       "      <td>Nah I don't think he goes to usf, he lives aro...</td>\n",
       "      <td>0</td>\n",
       "      <td>0</td>\n",
       "      <td>0</td>\n",
       "      <td>0</td>\n",
       "      <td>0</td>\n",
       "      <td>0</td>\n",
       "      <td>0</td>\n",
       "      <td>0</td>\n",
       "      <td>...</td>\n",
       "      <td>0</td>\n",
       "      <td>0</td>\n",
       "      <td>0</td>\n",
       "      <td>0</td>\n",
       "      <td>0</td>\n",
       "      <td>0</td>\n",
       "      <td>0</td>\n",
       "      <td>0</td>\n",
       "      <td>0</td>\n",
       "      <td>0</td>\n",
       "    </tr>\n",
       "  </tbody>\n",
       "</table>\n",
       "<p>5 rows × 37 columns</p>\n",
       "</div>"
      ],
      "text/plain": [
       "     v1                                                 v2  FREE  WINNER  \\\n",
       "0   ham  Go until jurong point, crazy.. Available only ...     0       0   \n",
       "1   ham                      Ok lar... Joking wif u oni...     0       0   \n",
       "2  spam  Free entry in 2 a wkly comp to win FA Cup fina...     1       0   \n",
       "3   ham  U dun say so early hor... U c already then say...     0       0   \n",
       "4   ham  Nah I don't think he goes to usf, he lives aro...     0       0   \n",
       "\n",
       "   REMINDER  CONTRACT  MOBILE  URGENT  IMPORTANT  PRIVATE   ...     SHOPPING  \\\n",
       "0         0         0       0       0          0        0   ...            0   \n",
       "1         0         0       0       0          0        0   ...            0   \n",
       "2         0         0       0       0          0        0   ...            0   \n",
       "3         0         0       0       0          0        0   ...            0   \n",
       "4         0         0       0       0          0        0   ...            0   \n",
       "\n",
       "   ENTITLED  WANT  ENTRY  SECRET  DISCOUNT  MESSAGE  XXX  GIRLS  CONTACT  \n",
       "0         0     0      0       0         0        0    0      0        0  \n",
       "1         0     0      0       0         0        0    0      0        0  \n",
       "2         0     0      1       0         0        0    0      0        0  \n",
       "3         0     0      0       0         0        0    0      0        0  \n",
       "4         0     0      0       0         0        0    0      0        0  \n",
       "\n",
       "[5 rows x 37 columns]"
      ]
     },
     "execution_count": 46,
     "metadata": {},
     "output_type": "execute_result"
    }
   ],
   "source": [
    "sms.head()"
   ]
  },
  {
   "cell_type": "code",
   "execution_count": 50,
   "metadata": {
    "collapsed": true
   },
   "outputs": [],
   "source": [
    "sms[\"spam\"]     = sms[\"v1\"]==\"spam\"  #生成一组True, False的序列\n",
    "sms[\"spam\"]     = sms[\"spam\"].astype(int) #生成一组0，1的序列\n",
    "sms[\"DIGITS\"]   = sms[\"v2\"].apply(lambda x: count_digits(x)) #数每条信息中有多少个数字\n",
    "sms[\"EXC_MARK\"] = sms[\"v2\"].str.upper().str.count(\"!\") #感叹号的数量"
   ]
  },
  {
   "cell_type": "code",
   "execution_count": 72,
   "metadata": {
    "collapsed": true
   },
   "outputs": [],
   "source": [
    "data = sms[[\"FREE\",\"WINNER\",\"REMINDER\",\"CONTRACT\",\"MOBILE\",\"URGENT\",\"IMPORTANT\",\"PRIVATE\",\"CALL\",\"SEX\",\"GUARANTEED\",\n",
    "            \"CONGRATS\",\"DATING\",\"CASH\",\"CUSTOMER\",\"SMS\",\"ACCOUNT\",\"HEY\",\"AWARDED\",\"WON\",\"CHOSEN\",\"WOULD\",\n",
    "            \"WIND\",\"HORNY\",\"INVITING\",\"CHOSEN\",\"SHOPPING\",\"ENTITLED\",\"WANT\",\"ENTRY\",\"SECRET\",\"DISCOUNT\",\"MESSAGE\",\n",
    "            \"IMPORTANT\",\"XXX\",\"GIRLS\",\"CONTACT\",\"DIGITS\",\"EXC_MARK\"]].values.reshape(5572,39)"
   ]
  },
  {
   "cell_type": "code",
   "execution_count": 57,
   "metadata": {
    "collapsed": true
   },
   "outputs": [],
   "source": [
    "import numpy as np\n",
    "from sklearn.naive_bayes import BernoulliNB\n",
    "from sklearn.cross_validation import cross_val_score"
   ]
  },
  {
   "cell_type": "code",
   "execution_count": 66,
   "metadata": {
    "collapsed": true
   },
   "outputs": [],
   "source": [
    "clf=BernoulliNB()\n",
    "clf.fit(data,sms[\"spam\"].values)\n",
    "BernoulliNB(alpha=1.0, binarize=0.0, class_prior=None, fit_prior=True)\n",
    "sms[\"prediction\"] = clf.predict(data)"
   ]
  },
  {
   "cell_type": "code",
   "execution_count": 67,
   "metadata": {
    "collapsed": false
   },
   "outputs": [
    {
     "name": "stdout",
     "output_type": "stream",
     "text": [
      "Accuracy: 0.95 (+/- 0.01)\n"
     ]
    }
   ],
   "source": [
    "scores = cross_val_score(clf, data, sms[\"spam\"].values, cv=5)\n",
    "print(\"Accuracy: %0.2f (+/- %0.2f)\" % (scores.mean(), scores.std() * 2))"
   ]
  },
  {
   "cell_type": "markdown",
   "metadata": {},
   "source": [
    "## The Multinomial Model"
   ]
  },
  {
   "cell_type": "code",
   "execution_count": 78,
   "metadata": {
    "collapsed": false
   },
   "outputs": [
    {
     "name": "stdout",
     "output_type": "stream",
     "text": [
      "Accuracy: 0.96 (+/- 0.02)\n"
     ]
    }
   ],
   "source": [
    "import numpy as np\n",
    "from sklearn.naive_bayes import MultinomialNB\n",
    "from sklearn.cross_validation import cross_val_score\n",
    "clf = MultinomialNB()\n",
    "clf.fit(data,sms[\"spam\"].values)\n",
    "MultinomialNB(alpha=1.0, class_prior=None, fit_prior=True)\n",
    "sms[\"prediction\"] = clf.predict(data)\n",
    "scores = cross_val_score(clf, data, sms[\"spam\"].values, cv=15)\n",
    "print(\"Accuracy: %0.2f (+/- %0.2f)\" % (scores.mean(), scores.std() * 2))"
   ]
  },
  {
   "cell_type": "markdown",
   "metadata": {},
   "source": [
    "-----"
   ]
  },
  {
   "cell_type": "markdown",
   "metadata": {},
   "source": [
    "# Support Vector Machine"
   ]
  },
  {
   "cell_type": "code",
   "execution_count": 9,
   "metadata": {
    "collapsed": false
   },
   "outputs": [],
   "source": [
    "import pandas\n",
    "import numpy\n",
    "from sklearn import preprocessing\n",
    "df=pandas.read_csv('C:/Users/Think/Downloads/001-customer.csv',index_col=False,header=0)\n",
    "Group=df[\"Group\"].values\n",
    "Features=df[[\"F1\",\"F2\",\"F3\",\"F4\",\"F5\"]].values\n",
    "Features=preprocessing.scale(Features)\n",
    "#记得要先scale!!!"
   ]
  },
  {
   "cell_type": "code",
   "execution_count": 6,
   "metadata": {
    "collapsed": false
   },
   "outputs": [
    {
     "name": "stdout",
     "output_type": "stream",
     "text": [
      "[[-1.37244856 -0.11410806  0.44669314]\n",
      " [ 1.18587131  0.78892706 -0.39103837]\n",
      " [ 0.97988755  1.00909795  0.32247696]\n",
      " ..., \n",
      " [ 2.13104484 -0.82084641 -1.82626684]\n",
      " [-0.53606644 -0.21504912  0.28158403]\n",
      " [-1.42253286 -0.91923272 -0.06540544]]\n",
      "(738, 5)\n",
      "[[ 0.39479716  0.8782536   0.71849264  0.21987291 -0.06223538]\n",
      " [-0.25582012  0.04967206 -0.20830175  1.17099646 -0.66257281]\n",
      " [-0.12811594 -0.51116172 -0.44270331  0.79791476 -0.43503393]]\n"
     ]
    },
    {
     "name": "stderr",
     "output_type": "stream",
     "text": [
      "C:\\Users\\Think\\Anaconda3\\lib\\site-packages\\sklearn\\svm\\base.py:547: ChangedBehaviorWarning: The decision_function_shape default value will change from 'ovo' to 'ovr' in 0.18. This will change the shape of the decision function returned by SVC.\n",
      "  \"SVC.\", ChangedBehaviorWarning)\n"
     ]
    }
   ],
   "source": [
    "from sklearn.svm import SVC,LinearSVC,NuSVC\n",
    "clf=SVC(C=0.01,kernel='linear')\n",
    "clf.fit(Features,Group)\n",
    "print(clf.decision_function(Features))\n",
    "print(clf.support_vectors_.shape)#有738个support vectors\n",
    "print(clf.coef_)"
   ]
  },
  {
   "cell_type": "code",
   "execution_count": 10,
   "metadata": {
    "collapsed": false
   },
   "outputs": [
    {
     "data": {
      "text/plain": [
       "860"
      ]
     },
     "execution_count": 10,
     "metadata": {},
     "output_type": "execute_result"
    }
   ],
   "source": [
    "predictions=clf.predict(Features)\n",
    "numpy.sum(predictions==Group)"
   ]
  },
  {
   "cell_type": "code",
   "execution_count": 11,
   "metadata": {
    "collapsed": false
   },
   "outputs": [
    {
     "data": {
      "text/plain": [
       "1000"
      ]
     },
     "execution_count": 11,
     "metadata": {},
     "output_type": "execute_result"
    }
   ],
   "source": [
    "len(df)"
   ]
  },
  {
   "cell_type": "code",
   "execution_count": 15,
   "metadata": {
    "collapsed": false
   },
   "outputs": [
    {
     "name": "stdout",
     "output_type": "stream",
     "text": [
      "[[-0.52069622 -0.34449484  0.30484891]\n",
      " [ 0.8236462   0.40376707 -0.22724119]\n",
      " [ 0.56978364  0.69487727  0.06814763]\n",
      " ..., \n",
      " [ 1.30327658 -0.68078824 -0.98075275]\n",
      " [-0.26647691  0.0215637   0.40064077]\n",
      " [-0.47517518 -0.62009513  0.2103442 ]]\n",
      "(967, 5)\n",
      "[[  1.11344329e-01   4.25926683e-01   3.90729869e-01   1.68087240e-02\n",
      "   -1.99549280e-02]\n",
      " [ -3.04260036e-04  -5.89196772e-03  -6.71059679e-04   7.02649450e-01\n",
      "   -2.48543019e-01]\n",
      " [ -3.55171150e-02  -2.66196690e-01  -2.34817500e-01   2.56544598e-01\n",
      "   -3.61001335e-02]]\n"
     ]
    },
    {
     "name": "stderr",
     "output_type": "stream",
     "text": [
      "C:\\Users\\Think\\Anaconda3\\lib\\site-packages\\sklearn\\svm\\base.py:547: ChangedBehaviorWarning: The decision_function_shape default value will change from 'ovo' to 'ovr' in 0.18. This will change the shape of the decision function returned by SVC.\n",
      "  \"SVC.\", ChangedBehaviorWarning)\n"
     ]
    }
   ],
   "source": [
    "clx=NuSVC(nu=0.9,kernel='linear')\n",
    "clx.fit(Features,Group)\n",
    "print(clx.decision_function(Features))\n",
    "print(clx.support_vectors_.shape)\n",
    "print(clx.coef_)"
   ]
  },
  {
   "cell_type": "code",
   "execution_count": 17,
   "metadata": {
    "collapsed": false
   },
   "outputs": [
    {
     "data": {
      "text/plain": [
       "774"
      ]
     },
     "execution_count": 17,
     "metadata": {},
     "output_type": "execute_result"
    }
   ],
   "source": [
    "predictions=clx.predict(Features)\n",
    "numpy.sum(predictions==Group)"
   ]
  },
  {
   "cell_type": "code",
   "execution_count": 27,
   "metadata": {
    "collapsed": false
   },
   "outputs": [
    {
     "data": {
      "text/plain": [
       "857"
      ]
     },
     "execution_count": 27,
     "metadata": {},
     "output_type": "execute_result"
    }
   ],
   "source": [
    "cls=LinearSVC(penalty=\"l1\",dual=False)\n",
    "cls.fit(Features,Group)\n",
    "predictions=cls.predict(Features)\n",
    "numpy.sum(predictions==Group)"
   ]
  },
  {
   "cell_type": "code",
   "execution_count": 25,
   "metadata": {
    "collapsed": false
   },
   "outputs": [
    {
     "data": {
      "text/plain": [
       "857"
      ]
     },
     "execution_count": 25,
     "metadata": {},
     "output_type": "execute_result"
    }
   ],
   "source": []
  }
 ],
 "metadata": {
  "anaconda-cloud": {},
  "kernelspec": {
   "display_name": "Python [conda root]",
   "language": "python",
   "name": "conda-root-py"
  },
  "language_info": {
   "codemirror_mode": {
    "name": "ipython",
    "version": 3
   },
   "file_extension": ".py",
   "mimetype": "text/x-python",
   "name": "python",
   "nbconvert_exporter": "python",
   "pygments_lexer": "ipython3",
   "version": "3.5.2"
  }
 },
 "nbformat": 4,
 "nbformat_minor": 1
}
