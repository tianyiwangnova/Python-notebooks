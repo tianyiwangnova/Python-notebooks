{
 "cells": [
  {
   "cell_type": "code",
   "execution_count": 41,
   "metadata": {
    "collapsed": false
   },
   "outputs": [],
   "source": [
    "def twosum(numbers,target):\n",
    "    hash_map={}\n",
    "    for index,value in enumerate(numbers):\n",
    "        hash_map[value]=index\n",
    "    print(hash_map)\n",
    "    for index1, value in enumerate(numbers):\n",
    "        if target-value in hash_map:\n",
    "            index2=hash_map[target-value]\n",
    "            if index1<index2:\n",
    "                print([index1+1,index2+1])"
   ]
  },
  {
   "cell_type": "code",
   "execution_count": 42,
   "metadata": {
    "collapsed": false
   },
   "outputs": [
    {
     "name": "stdout",
     "output_type": "stream",
     "text": [
      "{1: 0, 2: 1, 3: 2, 4: 3, 5: 4, 6: 5, 7: 6, 8: 7, 9: 8}\n",
      "[3, 9]\n",
      "[4, 8]\n",
      "[5, 7]\n"
     ]
    }
   ],
   "source": [
    "twosum([1,2,3,4,5,6,7,8,9],12)"
   ]
  },
  {
   "cell_type": "code",
   "execution_count": 53,
   "metadata": {
    "collapsed": true
   },
   "outputs": [],
   "source": [
    "def twosum(numbers,target):\n",
    "    map1={}\n",
    "    for index,value in enumerate(numbers):\n",
    "        map1[value]=index\n",
    "    for index1,value in enumerate(numbers):\n",
    "        if target-value in map1:\n",
    "            index2=map1[target-value]\n",
    "            if (index1<index2):\n",
    "                print ([index1+1,index2+1])"
   ]
  },
  {
   "cell_type": "code",
   "execution_count": 51,
   "metadata": {
    "collapsed": true
   },
   "outputs": [],
   "source": [
    "def twosum(numbers,target):\n",
    "    hash_map={}\n",
    "    for index,value in enumerate(numbers):\n",
    "        hash_map[value]=index\n",
    "    print(hash_map)\n",
    "    for index1, value in enumerate(numbers):\n",
    "        if target-value in hash_map:\n",
    "            index2=hash_map[target-value]\n",
    "            if index1<index2:\n",
    "                print([index1+1,index2+1])"
   ]
  },
  {
   "cell_type": "code",
   "execution_count": 54,
   "metadata": {
    "collapsed": false
   },
   "outputs": [
    {
     "name": "stdout",
     "output_type": "stream",
     "text": [
      "[3, 9]\n",
      "[4, 8]\n",
      "[5, 7]\n"
     ]
    }
   ],
   "source": [
    "twosum([1,2,3,4,5,6,7,8,9],12)"
   ]
  },
  {
   "cell_type": "code",
   "execution_count": 55,
   "metadata": {
    "collapsed": true
   },
   "outputs": [],
   "source": [
    "def addTwoNodes(n1,n2):\n",
    "    if not n1 and not n2:\n",
    "        None\n",
    "    if not n1:\n",
    "        return n2.val\n",
    "    return n1.val+n2.val"
   ]
  },
  {
   "cell_type": "code",
   "execution_count": 125,
   "metadata": {
    "collapsed": false
   },
   "outputs": [],
   "source": [
    "def addtwonumbers(list1,list2):\n",
    "    result=[]\n",
    "    n=max(len(list1),len(list2))\n",
    "    list1.extend([0]*(n-min(len(list1),len(list2))))\n",
    "    list2.extend([0]*(n-min(len(list1),len(list2))))\n",
    "    jia=0\n",
    "    for i in (range(n-1)):\n",
    "        he=list1[i]+list2[i]+jia\n",
    "        if he>=10:\n",
    "            he=he-10\n",
    "            jia=1\n",
    "        else:\n",
    "            jia=0\n",
    "        result.append(he)\n",
    "    he=list1[n-1]+list2[n-1]+jia \n",
    "    if he>=10:\n",
    "        result.append(he-10)\n",
    "        result.append(he//10)\n",
    "    if he<10:\n",
    "        result.append(he)\n",
    "    print(result)"
   ]
  },
  {
   "cell_type": "code",
   "execution_count": 127,
   "metadata": {
    "collapsed": false
   },
   "outputs": [
    {
     "name": "stdout",
     "output_type": "stream",
     "text": [
      "[2, 0, 0, 1]\n"
     ]
    }
   ],
   "source": [
    "addtwonumbers([4],[8,9,9])"
   ]
  },
  {
   "cell_type": "code",
   "execution_count": 222,
   "metadata": {
    "collapsed": true
   },
   "outputs": [],
   "source": [
    "def lengthofstrings(s):\n",
    "    lengths=[]\n",
    "    dictionary={}\n",
    "    index=0\n",
    "    for i,v in enumerate(s):\n",
    "        if v not in dictionary:\n",
    "            index=index+1\n",
    "        if v in dictionary:\n",
    "            lengths.append(index)\n",
    "            index=1\n",
    "            dictionary={}\n",
    "        dictionary[v]=i\n",
    "    print(max(lengths))"
   ]
  },
  {
   "cell_type": "code",
   "execution_count": 251,
   "metadata": {
    "collapsed": false
   },
   "outputs": [],
   "source": [
    "def huiwen(s):\n",
    "    lengths=[]\n",
    "    huiwens=[]\n",
    "    n=len(s)\n",
    "    #odd\n",
    "    for i,v in enumerate(s):\n",
    "        width=min(i,n-i-1)\n",
    "        length=1\n",
    "        if width>=1:\n",
    "            for j in range(1,width+1):\n",
    "                if s[i-j]==s[i+j]:\n",
    "                    length=length+2\n",
    "                if s[i-j]!=s[i+j]:\n",
    "                    break\n",
    "                huiwens.append(s[i-j:i+j+1])\n",
    "                lengths.append(length)\n",
    "    #even\n",
    "    for i,v in enumerate(s):\n",
    "        width=min(i+1,n-i)\n",
    "        length=0\n",
    "        if width*2<=n:\n",
    "            if i<=n//2:\n",
    "                center=i+0.5\n",
    "                for j in range(width):\n",
    "                    a=int(center-0.5-j)\n",
    "                    b=int(center+0.5+j)\n",
    "                    if s[a]==s[b]:\n",
    "                        length=length+2\n",
    "                    if s[a]!=s[b]:\n",
    "                        break\n",
    "                    lengths.append(length)\n",
    "                    huiwens.append(s[a:b+1])\n",
    "            if i>n//2:\n",
    "                center=i-0.5\n",
    "                for j in range(width):\n",
    "                    a=int(center-0.5-j)\n",
    "                    b=int(center+0.5+j)\n",
    "                    if s[a]==s[b]:\n",
    "                        length=length+2\n",
    "                    if s[a]!=s[b]:\n",
    "                        break\n",
    "                    lengths.append(length)\n",
    "                    huiwens.append(s[a:b+1])\n",
    "    if len(lengths)==0:\n",
    "        print(\"呵呵呵没有回文哟~\")\n",
    "    if len(lengths)>0:\n",
    "        max_loc=lengths.index(max(lengths))\n",
    "        print(huiwens[max_loc])"
   ]
  },
  {
   "cell_type": "code",
   "execution_count": 282,
   "metadata": {
    "collapsed": false
   },
   "outputs": [],
   "source": [
    "def panduanhuiwen(number):\n",
    "    string=str(number)\n",
    "    n=len(string)\n",
    "    if (n%2)==0:\n",
    "        j=1\n",
    "        for i in range(int(n/2)-1):\n",
    "            if string[i]!=string[n-i-1]:\n",
    "                j=0\n",
    "    if (n%2)==1:\n",
    "        j=1\n",
    "        for i in range(n//2-1):\n",
    "            if string[i]!=string[n-i-1]:\n",
    "                j=0\n",
    "    if j==1:\n",
    "        print(\"是回文哟~\")\n",
    "    if j==0:\n",
    "        print(\"不是回文哟~\")"
   ]
  },
  {
   "cell_type": "code",
   "execution_count": 294,
   "metadata": {
    "collapsed": true
   },
   "outputs": [],
   "source": [
    "def container(x):\n",
    "    volume=[]\n",
    "    for i,v1 in enumerate(x):\n",
    "        for j,v2 in enumerate(x):\n",
    "            if v2>=v1:\n",
    "                volume.append(v1*abs(i-j))\n",
    "    print(max(volume))"
   ]
  },
  {
   "cell_type": "code",
   "execution_count": 4,
   "metadata": {
    "collapsed": false
   },
   "outputs": [],
   "source": [
    "def sum3(x):\n",
    "    n=len(x)\n",
    "    x.sort()\n",
    "    result=[]\n",
    "    i=0\n",
    "    while i<n-2:\n",
    "        j=i+1\n",
    "        k=n-1\n",
    "        while j<k:\n",
    "            l=[x[i],x[j],x[k]]\n",
    "            if sum(l)==0:\n",
    "                result.append(l)\n",
    "                j+=1\n",
    "                k-=1\n",
    "                while j<k and x[j]==x[j-1]:\n",
    "                    j+=1\n",
    "                while j<k and x[k]==x[k-1]:\n",
    "                    k-=1\n",
    "            elif sum(l)>0:\n",
    "                k-=1\n",
    "            else:\n",
    "                j+=1\n",
    "        i+=1\n",
    "        while i<n-2 and x[i]==x[i-1]:\n",
    "            i+=1\n",
    "    return result"
   ]
  },
  {
   "cell_type": "code",
   "execution_count": null,
   "metadata": {
    "collapsed": true
   },
   "outputs": [],
   "source": [
    "def sumof3(x):\n",
    "    result=[]\n",
    "    x.sort()\n",
    "    i=0\n",
    "    while i<n-2:\n",
    "        j=i+1\n",
    "        k=n-1\n",
    "        while j<k:\n",
    "            l=[x[i],x[j],x[k]]\n",
    "            if sum(l)==0:\n",
    "                result.append(l)\n",
    "            if sum(l)>0:\n",
    "                "
   ]
  }
 ],
 "metadata": {
  "kernelspec": {
   "display_name": "Python [conda root]",
   "language": "python",
   "name": "conda-root-py"
  },
  "language_info": {
   "codemirror_mode": {
    "name": "ipython",
    "version": 3
   },
   "file_extension": ".py",
   "mimetype": "text/x-python",
   "name": "python",
   "nbconvert_exporter": "python",
   "pygments_lexer": "ipython3",
   "version": "3.5.2"
  }
 },
 "nbformat": 4,
 "nbformat_minor": 1
}
